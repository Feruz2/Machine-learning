{
  "nbformat": 4,
  "nbformat_minor": 0,
  "metadata": {
    "colab": {
      "provenance": [],
      "authorship_tag": "ABX9TyMd7cMHwhU29Zr9fZI6+n8j",
      "include_colab_link": true
    },
    "kernelspec": {
      "name": "python3",
      "display_name": "Python 3"
    },
    "language_info": {
      "name": "python"
    }
  },
  "cells": [
    {
      "cell_type": "markdown",
      "metadata": {
        "id": "view-in-github",
        "colab_type": "text"
      },
      "source": [
        "<a href=\"https://colab.research.google.com/github/Feruz2/Machine-learning/blob/main/Checkpoint.ipynb\" target=\"_parent\"><img src=\"https://colab.research.google.com/assets/colab-badge.svg\" alt=\"Open In Colab\"/></a>"
      ]
    },
    {
      "cell_type": "markdown",
      "metadata": {
        "id": "67d0260a"
      },
      "source": [
        "**CP1**:\n",
        "Given the list $[A, B, C]$, use the `itertools` module to generate all possible\n",
        "combinations of 2 elements.\n",
        "\n",
        "**Expected Output**:\n",
        "$$\n",
        " (A, B) \\\\\n",
        " (A, C) \\\\\n",
        " (B, C)\n",
        "$$"
      ]
    },
    {
      "cell_type": "code",
      "source": [
        "import itertools\n",
        "\n",
        "List = ['A','B','C']\n",
        "\n",
        "for comb in itertools.combinations(List,2):\n",
        "  print(comb)"
      ],
      "metadata": {
        "id": "O8umwELWU1l7",
        "colab": {
          "base_uri": "https://localhost:8080/"
        },
        "outputId": "43659a96-db2b-4d41-8a2c-81dff562ac5a"
      },
      "execution_count": 3,
      "outputs": [
        {
          "output_type": "stream",
          "name": "stdout",
          "text": [
            "('A', 'B')\n",
            "('A', 'C')\n",
            "('B', 'C')\n"
          ]
        }
      ]
    },
    {
      "cell_type": "markdown",
      "metadata": {
        "id": "31c15dce"
      },
      "source": [
        "**CP2**:\n",
        "Use the `itertools` module to create a sequence that cycles through\n",
        "['Python', 'is', 'fun'] infinitely. Print the first 10 elements of the sequence.\n",
        "\n",
        "**Expected Output**:\n",
        "$$\n",
        "Python \\\\\n",
        "is\\\\\n",
        "fun\\\\\n",
        "Python\\\\\n",
        "is\\\\\n",
        "fun\\\\\n",
        "Python\\\\\n",
        "is\\\\\n",
        "fun\\\\\n",
        "Python\n",
        "$$"
      ]
    },
    {
      "cell_type": "code",
      "source": [
        "import itertools\n",
        "\n",
        "List = ['Python', 'is', 'fun']\n",
        "\n",
        "cycle = itertools.cycle(List)\n",
        "start, end = 0, 10\n",
        "\n",
        "for output in cycle:\n",
        "  if start == end:\n",
        "    break\n",
        "\n",
        "  start += 1\n",
        "  print(output)\n"
      ],
      "metadata": {
        "colab": {
          "base_uri": "https://localhost:8080/"
        },
        "id": "gKML_t4M0yEf",
        "outputId": "b591d941-bf8b-44d4-c218-30bca0c5c192"
      },
      "execution_count": 7,
      "outputs": [
        {
          "output_type": "stream",
          "name": "stdout",
          "text": [
            "Python\n",
            "is\n",
            "fun\n",
            "Python\n",
            "is\n",
            "fun\n",
            "Python\n",
            "is\n",
            "fun\n",
            "Python\n"
          ]
        }
      ]
    },
    {
      "cell_type": "markdown",
      "metadata": {
        "id": "cbef0f63"
      },
      "source": [
        "**CP3**:\n",
        "Use the `glob` module to list all python (.py) files in your current working directory.\n",
        "\n",
        "\n"
      ]
    },
    {
      "cell_type": "code",
      "source": [
        "import glob\n",
        "\n",
        "all_files = glob.glob(\"*.py\")\n",
        "\n",
        "for file in all_files:\n",
        "    print(file)"
      ],
      "metadata": {
        "id": "2qp6EiWc2bD5"
      },
      "execution_count": 14,
      "outputs": []
    },
    {
      "cell_type": "markdown",
      "metadata": {
        "id": "d266d698"
      },
      "source": [
        "**CP4**: You are given the following HTML content below. Write a function that uses BeautifulSoup to parse the HTML and extract the text inside the   '$<p>$'   tag.\n"
      ]
    },
    {
      "cell_type": "code",
      "source": [
        "from bs4 import BeautifulSoup\n",
        "\n",
        "def extract_paragraph_text(html_content):\n",
        "\n",
        "    soup = BeautifulSoup(html_content, 'html.parser')\n",
        "\n",
        "    paragraph_tag = soup.find('p')\n",
        "\n",
        "    paragraph_text = paragraph_tag.get_text() if paragraph_tag else None\n",
        "\n",
        "    return paragraph_text\n",
        "\n",
        "html_content = \"<html><body><div class='main'><h1>Welcome to AI</h1><p>AI is transforming the world</p></div></body></html>\"\n",
        "\n",
        "paragraph_text = extract_paragraph_text(html_content)\n",
        "print(paragraph_text)"
      ],
      "metadata": {
        "colab": {
          "base_uri": "https://localhost:8080/"
        },
        "id": "Ps505QeoD3dQ",
        "outputId": "6b12a9e5-85ad-444b-b861-f341b2e84852"
      },
      "execution_count": 2,
      "outputs": [
        {
          "output_type": "stream",
          "name": "stdout",
          "text": [
            "AI is transforming the world\n"
          ]
        }
      ]
    },
    {
      "cell_type": "markdown",
      "metadata": {
        "id": "a1fce3ef"
      },
      "source": [
        "**CP5**: Write a function that uses the re module to replace all occurrences of the word \"AI\" with \"Artificial Intelligence\" in a given text."
      ]
    },
    {
      "cell_type": "code",
      "source": [
        "import re\n",
        "import re\n",
        "\n",
        "def replace_word_in_html(html_content):\n",
        "\n",
        "    pattern = r'\\bAI\\b'\n",
        "\n",
        "    replaced_html = re.sub(pattern, 'Artificial Intelligence', html_content)\n",
        "\n",
        "    return replaced_html\n",
        "\n",
        "    return replaced_text\n",
        "\n",
        "\n",
        "\n",
        "html_content = \"Welcome to AI is transforming the world\"\n",
        "\n",
        "replaced_html = replace_word_in_html(html_content)\n",
        "print(replaced_html)\n"
      ],
      "metadata": {
        "colab": {
          "base_uri": "https://localhost:8080/"
        },
        "id": "5KGrzKnqFmLD",
        "outputId": "700ac5e3-0171-47ab-9265-62a6683128d8"
      },
      "execution_count": 7,
      "outputs": [
        {
          "output_type": "stream",
          "name": "stdout",
          "text": [
            "Welcome to Artificial Intelligence is transforming the world\n"
          ]
        }
      ]
    },
    {
      "cell_type": "markdown",
      "metadata": {
        "id": "4e471de6"
      },
      "source": [
        "**CP6**: Create a numpy array of 10 zeros."
      ]
    },
    {
      "cell_type": "code",
      "source": [
        "import numpy as np\n",
        "\n",
        "array = np.zeros((10))\n",
        "print(array)"
      ],
      "metadata": {
        "colab": {
          "base_uri": "https://localhost:8080/"
        },
        "id": "bPubk_js9UvN",
        "outputId": "3b84f7eb-6b09-4bc7-dfe6-7ae4b8ba1ff1"
      },
      "execution_count": 16,
      "outputs": [
        {
          "output_type": "stream",
          "name": "stdout",
          "text": [
            "[0. 0. 0. 0. 0. 0. 0. 0. 0. 0.]\n"
          ]
        }
      ]
    },
    {
      "cell_type": "markdown",
      "metadata": {
        "id": "5f52a63e"
      },
      "source": [
        "**CP7** Create a numpy array of the integers from 10 to 49."
      ]
    },
    {
      "cell_type": "code",
      "source": [
        "import numpy as np\n",
        "\n",
        "array = np.arange(10, 50)\n",
        "print(array)"
      ],
      "metadata": {
        "colab": {
          "base_uri": "https://localhost:8080/"
        },
        "id": "etLL-dzK9a4o",
        "outputId": "e81b5563-ca5b-471a-d8c2-d7e7824b1085"
      },
      "execution_count": 18,
      "outputs": [
        {
          "output_type": "stream",
          "name": "stdout",
          "text": [
            "[10 11 12 13 14 15 16 17 18 19 20 21 22 23 24 25 26 27 28 29 30 31 32 33\n",
            " 34 35 36 37 38 39 40 41 42 43 44 45 46 47 48 49]\n"
          ]
        }
      ]
    },
    {
      "cell_type": "markdown",
      "metadata": {
        "id": "79e4d614"
      },
      "source": [
        "**CP8**: Create a 3x3 numpy matrix, filled with values ranging from 0 to 8."
      ]
    },
    {
      "cell_type": "code",
      "source": [
        "import numpy as np\n",
        "\n",
        "array = np.arange(9).reshape(3,3)\n",
        "print(array)"
      ],
      "metadata": {
        "colab": {
          "base_uri": "https://localhost:8080/"
        },
        "id": "XTyUl_GO-aHj",
        "outputId": "5b9d5884-f098-4eaf-ef42-555c8236fd03"
      },
      "execution_count": 20,
      "outputs": [
        {
          "output_type": "stream",
          "name": "stdout",
          "text": [
            "[[0 1 2]\n",
            " [3 4 5]\n",
            " [6 7 8]]\n"
          ]
        }
      ]
    },
    {
      "cell_type": "markdown",
      "metadata": {
        "id": "1b09270f"
      },
      "source": [
        "**CP9**: Explain why machine learning models require large amounts of data? What does it mean for an amount of data to be **large**?"
      ]
    },
    {
      "cell_type": "markdown",
      "source": [
        "Machine learning models require large amounts of data because they need to learn from examples. The more examples a model has, the better it can learn to generalize to new data. This is because the model can learn to identify patterns in the data that are common to all of the examples.\n",
        "\n",
        "\n",
        "For a data to be referred as large it typically refers to a dataset that is too large to be processed or analyzed using traditional methods like spreadsheets or text processors.Generally, a \"large\" amount of data implies that the dataset contains a substantial number of samples or instances. The specific number can vary, but it often implies having thousands or even millions of data points\n",
        "\n"
      ],
      "metadata": {
        "id": "EP7TD_jLfarA"
      }
    },
    {
      "cell_type": "markdown",
      "metadata": {
        "id": "1a357bde"
      },
      "source": [
        "\n",
        "\n",
        "```\n",
        "# This is formatted as code\n",
        "```\n",
        "\n",
        "**CP10**: Explain 2 ways AI can be used in an adverserial way, and what can be done to prevent it."
      ]
    },
    {
      "cell_type": "markdown",
      "source": [
        "1)Adversarial attacks through advesrial examples: Adversarial examples are inputs that are designed to fool AI models. These inputs are typically very small changes to legitimate inputs, but they can cause AI models to make incorrect predictions.Adversarial attacks can be used to deceive AI-powered security systems, spam filters, or even autonomous vehicles. Adversaries may exploit vulnerabilities in AI algorithms to manipulate or bypass their intended functionality.\n",
        "\n",
        "Prevention: To mitigate adversarial attacks, researchers and practitioners are working on developing robust and resilient AI models. Techniques such as adversarial training, where models are trained using both regular and adversarial examples, can improve their ability to withstand such attacks."
      ],
      "metadata": {
        "id": "k1jQCAHF-sfi"
      }
    },
    {
      "cell_type": "markdown",
      "source": [
        "2)Privacy and Surveillance:\n",
        "AI technologies, particularly in the realm of surveillance and data analysis, can infringe upon individuals' privacy rights. Advances in facial recognition, tracking algorithms, and data aggregation can lead to intrusive surveillance practices. Adversaries can misuse AI-powered surveillance systems to invade privacy, track individuals without consent, or conduct mass surveillance without appropriate safeguards.\n",
        "\n",
        "Prevention: Protecting privacy in the context of AI requires robust data protection laws, privacy regulations, and ethical guidelines. Implementing privacy-enhancing techniques, such as differential privacy, can help anonymize and protect sensitive data. Strong encryption and secure storage practices can safeguard personal information. Additionally, ensuring transparency and consent in data collection and usage can empower individuals to control their personal information and mitigate privacy risks.\n",
        "\n",
        "\n"
      ],
      "metadata": {
        "id": "QWQO9aY7AIpy"
      }
    }
  ]
}